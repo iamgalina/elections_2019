{
 "cells": [
  {
   "cell_type": "code",
   "execution_count": 1,
   "metadata": {},
   "outputs": [
    {
     "data": {
      "text/html": [
       "<div>\n",
       "<style scoped>\n",
       "    .dataframe tbody tr th:only-of-type {\n",
       "        vertical-align: middle;\n",
       "    }\n",
       "\n",
       "    .dataframe tbody tr th {\n",
       "        vertical-align: top;\n",
       "    }\n",
       "\n",
       "    .dataframe thead th {\n",
       "        text-align: right;\n",
       "    }\n",
       "</style>\n",
       "<table border=\"1\" class=\"dataframe\">\n",
       "  <thead>\n",
       "    <tr style=\"text-align: right;\">\n",
       "      <th></th>\n",
       "      <th>Номер УИК</th>\n",
       "      <th>Количество избирателей</th>\n",
       "      <th>% явки</th>\n",
       "      <th>% за Амосова</th>\n",
       "      <th>% за Беглова</th>\n",
       "      <th>% за Тихонову</th>\n",
       "    </tr>\n",
       "  </thead>\n",
       "  <tbody>\n",
       "    <tr>\n",
       "      <td>0</td>\n",
       "      <td>УИК №973</td>\n",
       "      <td>1874</td>\n",
       "      <td>27.75</td>\n",
       "      <td>10.19</td>\n",
       "      <td>67.88</td>\n",
       "      <td>19.42</td>\n",
       "    </tr>\n",
       "    <tr>\n",
       "      <td>1</td>\n",
       "      <td>УИК №974</td>\n",
       "      <td>1894</td>\n",
       "      <td>24.71</td>\n",
       "      <td>12.18</td>\n",
       "      <td>66.03</td>\n",
       "      <td>19.66</td>\n",
       "    </tr>\n",
       "    <tr>\n",
       "      <td>2</td>\n",
       "      <td>УИК №975</td>\n",
       "      <td>1649</td>\n",
       "      <td>24.68</td>\n",
       "      <td>11.85</td>\n",
       "      <td>63.95</td>\n",
       "      <td>21.98</td>\n",
       "    </tr>\n",
       "    <tr>\n",
       "      <td>3</td>\n",
       "      <td>УИК №976</td>\n",
       "      <td>2346</td>\n",
       "      <td>28.86</td>\n",
       "      <td>16.1</td>\n",
       "      <td>62.92</td>\n",
       "      <td>19.2</td>\n",
       "    </tr>\n",
       "    <tr>\n",
       "      <td>4</td>\n",
       "      <td>УИК №977</td>\n",
       "      <td>1803</td>\n",
       "      <td>29.28</td>\n",
       "      <td>13.83</td>\n",
       "      <td>65.72</td>\n",
       "      <td>16.86</td>\n",
       "    </tr>\n",
       "    <tr>\n",
       "      <td>...</td>\n",
       "      <td>...</td>\n",
       "      <td>...</td>\n",
       "      <td>...</td>\n",
       "      <td>...</td>\n",
       "      <td>...</td>\n",
       "      <td>...</td>\n",
       "    </tr>\n",
       "    <tr>\n",
       "      <td>70</td>\n",
       "      <td>УИК №1043</td>\n",
       "      <td>1631</td>\n",
       "      <td>24.65</td>\n",
       "      <td>18.66</td>\n",
       "      <td>56.47</td>\n",
       "      <td>20.9</td>\n",
       "    </tr>\n",
       "    <tr>\n",
       "      <td>71</td>\n",
       "      <td>УИК №1044</td>\n",
       "      <td>1454</td>\n",
       "      <td>26</td>\n",
       "      <td>11.11</td>\n",
       "      <td>69.58</td>\n",
       "      <td>16.93</td>\n",
       "    </tr>\n",
       "    <tr>\n",
       "      <td>72</td>\n",
       "      <td>УИК №1045</td>\n",
       "      <td>2398</td>\n",
       "      <td>31.23</td>\n",
       "      <td>9.81</td>\n",
       "      <td>66.62</td>\n",
       "      <td>20.71</td>\n",
       "    </tr>\n",
       "    <tr>\n",
       "      <td>73</td>\n",
       "      <td>УИК №1046</td>\n",
       "      <td>2291</td>\n",
       "      <td>32.34</td>\n",
       "      <td>11.34</td>\n",
       "      <td>64.91</td>\n",
       "      <td>21.05</td>\n",
       "    </tr>\n",
       "    <tr>\n",
       "      <td>74</td>\n",
       "      <td>УИК №1047</td>\n",
       "      <td>503</td>\n",
       "      <td>35.19</td>\n",
       "      <td>12.43</td>\n",
       "      <td>74.01</td>\n",
       "      <td>12.43</td>\n",
       "    </tr>\n",
       "  </tbody>\n",
       "</table>\n",
       "<p>75 rows × 6 columns</p>\n",
       "</div>"
      ],
      "text/plain": [
       "    Номер УИК Количество избирателей % явки % за Амосова % за Беглова  \\\n",
       "0    УИК №973                   1874  27.75        10.19        67.88   \n",
       "1    УИК №974                   1894  24.71        12.18        66.03   \n",
       "2    УИК №975                   1649  24.68        11.85        63.95   \n",
       "3    УИК №976                   2346  28.86         16.1        62.92   \n",
       "4    УИК №977                   1803  29.28        13.83        65.72   \n",
       "..        ...                    ...    ...          ...          ...   \n",
       "70  УИК №1043                   1631  24.65        18.66        56.47   \n",
       "71  УИК №1044                   1454     26        11.11        69.58   \n",
       "72  УИК №1045                   2398  31.23         9.81        66.62   \n",
       "73  УИК №1046                   2291  32.34        11.34        64.91   \n",
       "74  УИК №1047                    503  35.19        12.43        74.01   \n",
       "\n",
       "   % за Тихонову  \n",
       "0          19.42  \n",
       "1          19.66  \n",
       "2          21.98  \n",
       "3           19.2  \n",
       "4          16.86  \n",
       "..           ...  \n",
       "70          20.9  \n",
       "71         16.93  \n",
       "72         20.71  \n",
       "73         21.05  \n",
       "74         12.43  \n",
       "\n",
       "[75 rows x 6 columns]"
      ]
     },
     "execution_count": 1,
     "metadata": {},
     "output_type": "execute_result"
    }
   ],
   "source": [
    "\n",
    "import pandas as pd\n",
    "\n",
    "url = 'http://www.st-petersburg.vybory.izbirkom.ru/region/region/st-petersburg?action=show&root=178402512&tvd=27820001217443&vrn=27820001217413&region=78&global=&sub_region=78&prver=0&pronetvd=null&vibid=27820001217443&type=222'\n",
    "page = pd.read_html(url, encoding = 'cp1251')[7].drop(12).T\n",
    "header = ['Номер УИК','Количество избирателей','% явки','% за Амосова','% за Беглова','% за Тихонову']\n",
    "table = [[None for i in range(page.shape[0])]for j in range(6)]\n",
    "table = pd.DataFrame(table).T\n",
    "header = pd.DataFrame(header).T.iloc[0]\n",
    "table = table.rename(columns = header)\n",
    "\n",
    "for i in range(page.shape[0]):\n",
    "    table.iloc[i,0] = page.iloc[i,0] #номер УИК\n",
    "    table.iloc[i,1] = int(page.iloc[i,1]) #колчество избирателей\n",
    "    table.iloc[i,2] = round((int(page.iloc[i,3])+int(page.iloc[i,4]))*100/int(page.iloc[i,1]),2) #процент явки\n",
    "    for j in range(3,6):\n",
    "        table.iloc[i,j] = float(page.iloc[i,j+9].split()[1].split(\"%\")[0]) #процент голосов за кадидатов\n",
    "table"
   ]
  },
  {
   "cell_type": "code",
   "execution_count": 5,
   "metadata": {},
   "outputs": [
    {
     "data": {
      "image/png": "[encoded data removed]",
      "text/plain": [
       "<Figure size 576x432 with 1 Axes>"
      ]
     },
     "metadata": {
      "needs_background": "light"
     },
     "output_type": "display_data"
    }
   ],
   "source": [
    "import matplotlib.pyplot as plt\n",
    "\n",
    "#Зависимость доли голосов от явки\n",
    "\n",
    "plt.figure(figsize=(8, 6))\n",
    "plt.scatter(table.iloc[:,2],table.iloc[:,3], s = 15, label = 'за Амосова')\n",
    "plt.scatter(table.iloc[:,2],table.iloc[:,4], s = 15, label = 'за Беглова', c = 'g')\n",
    "plt.scatter(table.iloc[:,2],table.iloc[:,5], s = 15, label = 'за Тихонову', c = 'r')\n",
    "plt.ylabel('Доля голосов')\n",
    "plt.xlabel('% явки')\n",
    "plt.legend()\n",
    "plt.grid()\n",
    "plt.show()"
   ]
  },
  {
   "cell_type": "code",
   "execution_count": 3,
   "metadata": {},
   "outputs": [
    {
     "data": {
      "image/png": "[encoded data removed]",
      "text/plain": [
       "<Figure size 576x432 with 1 Axes>"
      ]
     },
     "metadata": {
      "needs_background": "light"
     },
     "output_type": "display_data"
    }
   ],
   "source": [
    "#Зависимость явки от количества избирателей на участке\n",
    "\n",
    "plt.figure(figsize=(8, 6))\n",
    "plt.scatter(table.iloc[:,1],table.iloc[:,2], s = 15)\n",
    "plt.ylabel('% явки')\n",
    "plt.xlabel('Количество избирателей на участке')\n",
    "plt.show()"
   ]
  },
  {
   "cell_type": "code",
   "execution_count": 4,
   "metadata": {},
   "outputs": [
    {
     "data": {
      "image/png": "[encoded data removed]",
      "text/plain": [
       "<Figure size 576x432 with 1 Axes>"
      ]
     },
     "metadata": {
      "needs_background": "light"
     },
     "output_type": "display_data"
    }
   ],
   "source": [
    "import numpy as np\n",
    "\n",
    "#Зависимость явки и количества избирательных участков\n",
    "\n",
    "number = [0 for i in range(101)]\n",
    "for i in table.iloc[:,2]:\n",
    "    for j in range(101):\n",
    "        if(((j - 0.5) < i) & (i <= (j + 0.5))):\n",
    "            number[j]+=1;\n",
    "            \n",
    "x = np.arange(101)\n",
    "plt.figure(figsize=(8, 6))\n",
    "plt.plot(x, number)\n",
    "plt.ylabel('Количество избирательных участков')\n",
    "plt.xlabel('% явки')\n",
    "plt.show()\n"
   ]
  },
  {
   "cell_type": "code",
   "execution_count": null,
   "metadata": {},
   "outputs": [],
   "source": [
    "\n"
   ]
  },
  {
   "cell_type": "code",
   "execution_count": null,
   "metadata": {},
   "outputs": [],
   "source": []
  }
 ],
 "metadata": {
  "kernelspec": {
   "display_name": "Python 3 (ipykernel)",
   "language": "python",
   "name": "python3"
  },
  "language_info": {
   "codemirror_mode": {
    "name": "ipython",
    "version": 3
   },
   "file_extension": ".py",
   "mimetype": "text/x-python",
   "name": "python",
   "nbconvert_exporter": "python",
   "pygments_lexer": "ipython3",
   "version": "3.9.6"
  }
 },
 "nbformat": 4,
 "nbformat_minor": 4
}
